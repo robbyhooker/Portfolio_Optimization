{
 "cells": [
  {
   "cell_type": "code",
   "execution_count": 1,
   "id": "e7f92ee2",
   "metadata": {},
   "outputs": [],
   "source": [
    "import yfinance as yf\n",
    "import pandas as pd"
   ]
  },
  {
   "cell_type": "code",
   "execution_count": 12,
   "id": "7ff18510",
   "metadata": {},
   "outputs": [
    {
     "name": "stderr",
     "output_type": "stream",
     "text": [
      "[*********************100%%**********************]  10 of 10 completed\n"
     ]
    },
    {
     "name": "stdout",
     "output_type": "stream",
     "text": [
      "Ticker            DBC         GLD        HYG        IEF        IWM        LQD  \\\n",
      "Date                                                                            \n",
      "2010-01-04  23.234581  109.800003  38.479977  65.948334  52.369217  62.557068   \n",
      "2010-01-05  23.262197  109.699997  38.662510  66.237915  52.189140  62.855789   \n",
      "2010-01-06  23.676443  111.510002  38.762493  65.970551  52.140022  62.670597   \n",
      "2010-01-07  23.381868  110.820000  38.918980  65.970551  52.524742  62.748257   \n",
      "2010-01-08  23.363459  111.370003  38.979824  66.052261  52.811211  62.885754   \n",
      "\n",
      "Ticker            RWO        SPY         USO        VNQ  \n",
      "Date                                                     \n",
      "2010-01-04  18.773489  86.580742  322.160004  25.190029  \n",
      "2010-01-05  18.848780  86.809929  323.279999  25.161758  \n",
      "2010-01-06  18.732939  86.871056  327.760010  25.116529  \n",
      "2010-01-07  18.819828  87.237762  325.760010  25.387936  \n",
      "2010-01-08  18.790859  87.528053  327.440002  25.201342  \n"
     ]
    }
   ],
   "source": [
    "etfs = [\n",
    "    'SPY', 'IEF', 'LQD', 'USO', 'GLD', 'VNQ', 'RWO', 'IWM', 'HYG', 'DBC'\n",
    "]\n",
    "\n",
    "data = yf.download(etfs, start='2010-01-01', end='2023-01-01')\n",
    "\n",
    "adj_close = data['Adj Close']\n",
    "\n",
    "print(adj_close.head())\n",
    "\n",
    "adj_close.to_csv('historical_prices.csv')"
   ]
  },
  {
   "cell_type": "code",
   "execution_count": null,
   "id": "9d00b71d",
   "metadata": {},
   "outputs": [],
   "source": []
  }
 ],
 "metadata": {
  "kernelspec": {
   "display_name": "Python 3 (ipykernel)",
   "language": "python",
   "name": "python3"
  },
  "language_info": {
   "codemirror_mode": {
    "name": "ipython",
    "version": 3
   },
   "file_extension": ".py",
   "mimetype": "text/x-python",
   "name": "python",
   "nbconvert_exporter": "python",
   "pygments_lexer": "ipython3",
   "version": "3.9.7"
  }
 },
 "nbformat": 4,
 "nbformat_minor": 5
}
